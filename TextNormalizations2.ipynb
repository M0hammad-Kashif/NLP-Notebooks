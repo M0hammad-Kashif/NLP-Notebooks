{
 "cells": [
  {
   "cell_type": "code",
   "execution_count": 1,
   "id": "371968a7",
   "metadata": {},
   "outputs": [],
   "source": [
    "import spacy"
   ]
  },
  {
   "cell_type": "code",
   "execution_count": 2,
   "id": "12e90927",
   "metadata": {},
   "outputs": [],
   "source": [
    "nlp = spacy.load('en_core_web_sm')"
   ]
  },
  {
   "cell_type": "code",
   "execution_count": 13,
   "id": "ea7e9144",
   "metadata": {},
   "outputs": [],
   "source": [
    "proc = nlp('He is reading books with other students while eating meal.')"
   ]
  },
  {
   "cell_type": "code",
   "execution_count": 14,
   "id": "26ea8238",
   "metadata": {},
   "outputs": [
    {
     "name": "stdout",
     "output_type": "stream",
     "text": [
      "He he True\n",
      "is be True\n",
      "reading read False\n",
      "books book False\n",
      "with with True\n",
      "other other True\n",
      "students student False\n",
      "while while True\n",
      "eating eat False\n",
      "meal meal False\n",
      ". . False\n"
     ]
    }
   ],
   "source": [
    "for token in proc:\n",
    "    print(token.text,token.lemma_,token.is_stop)\n"
   ]
  },
  {
   "cell_type": "code",
   "execution_count": 11,
   "id": "4da47a13",
   "metadata": {},
   "outputs": [
    {
     "name": "stdout",
     "output_type": "stream",
     "text": [
      "he\n",
      "be\n",
      "read\n",
      "book\n",
      "with\n",
      "other\n",
      "student\n",
      "while\n",
      "eat\n",
      "meal\n"
     ]
    }
   ],
   "source": [
    "for token in proc:\n",
    "    print(token.lemma_)"
   ]
  },
  {
   "cell_type": "code",
   "execution_count": 16,
   "id": "123f1e51",
   "metadata": {},
   "outputs": [
    {
     "name": "stdout",
     "output_type": "stream",
     "text": [
      "My name is Kashif.\n",
      "THis is second sentence.\n",
      "Sky is blue.\n",
      "I live in U.P.\n"
     ]
    }
   ],
   "source": [
    "txt = 'My name is Kashif.THis is second sentence.Sky is blue.I live in U.P.'\n",
    "proc = nlp(txt)\n",
    "for s in proc.sents:\n",
    "    print(s.text)"
   ]
  },
  {
   "cell_type": "code",
   "execution_count": null,
   "id": "3e54962f",
   "metadata": {},
   "outputs": [],
   "source": []
  }
 ],
 "metadata": {
  "kernelspec": {
   "display_name": "Python 3 (ipykernel)",
   "language": "python",
   "name": "python3"
  },
  "language_info": {
   "codemirror_mode": {
    "name": "ipython",
    "version": 3
   },
   "file_extension": ".py",
   "mimetype": "text/x-python",
   "name": "python",
   "nbconvert_exporter": "python",
   "pygments_lexer": "ipython3",
   "version": "3.9.5"
  }
 },
 "nbformat": 4,
 "nbformat_minor": 5
}
