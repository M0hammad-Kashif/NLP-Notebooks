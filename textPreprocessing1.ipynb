{
 "cells": [
  {
   "cell_type": "code",
   "execution_count": 3,
   "id": "ca9b5b41",
   "metadata": {},
   "outputs": [],
   "source": [
    "import spacy\n",
    "import re\n",
    "import pandas as pd\n",
    "import numpy as np\n",
    "from collections import Counter"
   ]
  },
  {
   "cell_type": "code",
   "execution_count": 5,
   "id": "fa4d3a13",
   "metadata": {},
   "outputs": [
    {
     "data": {
      "text/plain": [
       "(     rating                                             review\n",
       " 0  negative  terrible place to work for i just heard a stor...\n",
       " 1  negative   hours , minutes total time for an extremely s...\n",
       " 2  negative  my less than stellar review is for service . w...\n",
       " 3  negative  i m granting one star because there s no way t...\n",
       " 4  negative  the food here is mediocre at best . i went aft...,\n",
       "          rating                                             review\n",
       " 55995  positive  great food . wonderful , friendly service . i ...\n",
       " 55996  positive  charlotte should be the new standard for moder...\n",
       " 55997  positive  get the encore sandwich ! ! make sure to get i...\n",
       " 55998  positive  i m a pretty big ice cream gelato fan . pretty...\n",
       " 55999  positive  where else can you find all the parts and piec...)"
      ]
     },
     "execution_count": 5,
     "metadata": {},
     "output_type": "execute_result"
    }
   ],
   "source": [
    "df = pd.read_csv('reviews.csv')\n",
    "df.head(5) , df.tail(5)"
   ]
  },
  {
   "cell_type": "code",
   "execution_count": 6,
   "id": "ad2ebecd",
   "metadata": {},
   "outputs": [
    {
     "data": {
      "text/plain": [
       "56000"
      ]
     },
     "execution_count": 6,
     "metadata": {},
     "output_type": "execute_result"
    }
   ],
   "source": [
    "len(df)"
   ]
  },
  {
   "cell_type": "code",
   "execution_count": 8,
   "id": "7c71eb81",
   "metadata": {},
   "outputs": [],
   "source": [
    "# lets bulid vocabulary for this dataset\n",
    "vocab = {}"
   ]
  },
  {
   "cell_type": "code",
   "execution_count": 9,
   "id": "1e47165b",
   "metadata": {},
   "outputs": [],
   "source": [
    "def initializeVocabulary():\n",
    "    unkToken = '<UNK>'\n",
    "    # token to index\n",
    "    vocab['t_2_i'] = {}\n",
    "    # index to token\n",
    "    vocab['i_2_t'] = {}\n",
    "    \n",
    "    vocab['unkToken'] = unkToken\n",
    "    idx = addToken(unkToken)\n",
    "    vocab['unkTokenIdx'] = idx"
   ]
  },
  {
   "cell_type": "code",
   "execution_count": 10,
   "id": "7d31edbb",
   "metadata": {},
   "outputs": [],
   "source": [
    "def addToken(token):\n",
    "    if token in vocab['t_2_i']:\n",
    "        idx = vocab['t_2_i'][token]\n",
    "    else:\n",
    "        # token in not present then we add it\n",
    "        idx = len(vocab['t_2_i']) \n",
    "        vocab['t_2_i'][token] = idx\n",
    "        vocab['i_2_t'][idx] = token\n",
    "    return idx"
   ]
  },
  {
   "cell_type": "code",
   "execution_count": 11,
   "id": "17f8921e",
   "metadata": {},
   "outputs": [],
   "source": [
    "def addManyTokens(tokens):\n",
    "    idxes = [addToken(token) for token in tokens]\n",
    "    return idxes"
   ]
  },
  {
   "cell_type": "code",
   "execution_count": 12,
   "id": "ee59d7d9",
   "metadata": {},
   "outputs": [],
   "source": [
    "def lookUpToken(token):\n",
    "    if vocab['unkTokenIdx']>=0:\n",
    "        return vocab['t_2_i'].get(token,vocab['unkTokenIdx'])\n",
    "    else:\n",
    "        return vocab['t_2_i'][token]"
   ]
  },
  {
   "cell_type": "code",
   "execution_count": 13,
   "id": "7be1c181",
   "metadata": {},
   "outputs": [],
   "source": [
    "def lookUpIndex(idx):\n",
    "    if idx not in vocab['i_2_t']:\n",
    "        raise KeyError(\"the index (%d) is not there\" % idx)\n",
    "    return vocab['i_2_t'][idx]"
   ]
  },
  {
   "cell_type": "code",
   "execution_count": 14,
   "id": "55d3448c",
   "metadata": {},
   "outputs": [],
   "source": [
    "def vocabularyFromDataFrame(df,cutoff=25):\n",
    "    initializeVocabulary()\n",
    "    wordCounts = Counter()\n",
    "    for r in df.review:\n",
    "        for word in re.split('\\W+',r):\n",
    "            wordCounts[word] += 1\n",
    "    for word,count in wordCounts.items():\n",
    "        if count > cutoff:\n",
    "            addToken(word)"
   ]
  },
  {
   "cell_type": "code",
   "execution_count": 15,
   "id": "3f708e0c",
   "metadata": {},
   "outputs": [],
   "source": [
    "def vocabularyFromCorpus(Corpus,cutoff=25):\n",
    "    initializeVocabulary()\n",
    "    wordCounts = Counter()\n",
    "    for doc in Corpus:\n",
    "        for word in re.split('\\W+',doc):\n",
    "            wordCounts[word] += 1\n",
    "    for word,count in wordCounts.items():\n",
    "        if count > cutoff:\n",
    "            addToken(word)"
   ]
  },
  {
   "cell_type": "code",
   "execution_count": 16,
   "id": "f1dc51ba",
   "metadata": {},
   "outputs": [],
   "source": [
    "#vocabularyFromDataFrame(df)\n",
    "Corpus = np.asarray(df['review'])\n",
    "vocabularyFromCorpus(Corpus)"
   ]
  },
  {
   "cell_type": "code",
   "execution_count": 17,
   "id": "b9a46f87",
   "metadata": {},
   "outputs": [
    {
     "data": {
      "text/plain": [
       "(38, 'the')"
      ]
     },
     "execution_count": 17,
     "metadata": {},
     "output_type": "execute_result"
    }
   ],
   "source": [
    "lookUpToken('the') ,lookUpIndex(lookUpToken('the'))\n"
   ]
  },
  {
   "cell_type": "code",
   "execution_count": 18,
   "id": "659bd07f",
   "metadata": {},
   "outputs": [
    {
     "data": {
      "text/plain": [
       "8946"
      ]
     },
     "execution_count": 18,
     "metadata": {},
     "output_type": "execute_result"
    }
   ],
   "source": [
    "len(vocab['t_2_i'])"
   ]
  },
  {
   "cell_type": "code",
   "execution_count": 19,
   "id": "436a4ecf",
   "metadata": {},
   "outputs": [],
   "source": [
    "def oneHotVector(token,N):\n",
    "    oneHot = np.zeros((N,1))\n",
    "    oneHot[lookUpToken(token)] = 1\n",
    "    return oneHot"
   ]
  },
  {
   "cell_type": "code",
   "execution_count": 20,
   "id": "121a3a4d",
   "metadata": {},
   "outputs": [],
   "source": [
    "N = len(vocab['t_2_i'])\n",
    "token = 'the'\n",
    "oneHot = oneHotVector(token,N)"
   ]
  },
  {
   "cell_type": "code",
   "execution_count": 27,
   "id": "841710df",
   "metadata": {},
   "outputs": [
    {
     "data": {
      "text/plain": [
       "array([[0.],\n",
       "       [0.],\n",
       "       [0.],\n",
       "       [0.],\n",
       "       [0.],\n",
       "       [0.],\n",
       "       [0.],\n",
       "       [0.],\n",
       "       [1.],\n",
       "       [0.]])"
      ]
     },
     "execution_count": 27,
     "metadata": {},
     "output_type": "execute_result"
    }
   ],
   "source": [
    "oneHot[30:40] "
   ]
  },
  {
   "cell_type": "code",
   "execution_count": 28,
   "id": "0b945261",
   "metadata": {},
   "outputs": [
    {
     "data": {
      "text/plain": [
       "array([1.])"
      ]
     },
     "execution_count": 28,
     "metadata": {},
     "output_type": "execute_result"
    }
   ],
   "source": [
    "oneHot[38]"
   ]
  },
  {
   "cell_type": "code",
   "execution_count": 29,
   "id": "9197a8e7",
   "metadata": {},
   "outputs": [],
   "source": [
    "def computeFeatures(doc,N):\n",
    "    isFirst = True\n",
    "    for token in doc:\n",
    "        oneHot = oneHotVector(token,N)\n",
    "        if isFirst:\n",
    "            xF = oneHot\n",
    "            isFirst = False\n",
    "        else:\n",
    "            xF = np.hstack((xF,oneHot))\n",
    "    return np.mean(xF,axis=1)[:,np.newaxis]"
   ]
  },
  {
   "cell_type": "code",
   "execution_count": 30,
   "id": "15be630f",
   "metadata": {},
   "outputs": [],
   "source": [
    "def computeFeatures_fast(doc,N):\n",
    "    fv = np.zeros(N)\n",
    "    numTokens = 0\n",
    "    for token in doc:\n",
    "        fv[lookUpToken(token)] += 1\n",
    "        numTokens += 1\n",
    "    return fv/numTokens"
   ]
  },
  {
   "cell_type": "code",
   "execution_count": 31,
   "id": "3f816233",
   "metadata": {},
   "outputs": [],
   "source": [
    "def corpusToFeatureMatrix(Corpus,N):\n",
    "    isFirst = True\n",
    "    for doc in Corpus:\n",
    "        fv = computeFeatures(doc,N)\n",
    "        if isFirst:\n",
    "            fM = fv\n",
    "            isFirst = False\n",
    "        else:\n",
    "            fM = np.hstack((fM,fv))\n",
    "    return fM.T"
   ]
  },
  {
   "cell_type": "code",
   "execution_count": 32,
   "id": "72b11b3b",
   "metadata": {},
   "outputs": [],
   "source": [
    "def corpusToFeatureMatrix_fast(Corpus,N):\n",
    "    fM = np.zeros((N,len(Corpus)))\n",
    "    i = 0\n",
    "    for doc in Corpus:\n",
    "        fM[:,i] = computeFeatures_fast(doc,N)\n",
    "        i+=1\n",
    "    return fM.T"
   ]
  },
  {
   "cell_type": "code",
   "execution_count": 33,
   "id": "12402b29",
   "metadata": {},
   "outputs": [
    {
     "name": "stdout",
     "output_type": "stream",
     "text": [
      "324 µs ± 2.94 µs per loop (mean ± std. dev. of 7 runs, 1000 loops each)\n"
     ]
    }
   ],
   "source": [
    "%timeit fv = computeFeatures_fast(Corpus[0],len(vocab['t_2_i']))"
   ]
  },
  {
   "cell_type": "code",
   "execution_count": 34,
   "id": "0acb1ea0",
   "metadata": {},
   "outputs": [
    {
     "name": "stdout",
     "output_type": "stream",
     "text": [
      "3.33 s ± 59.5 ms per loop (mean ± std. dev. of 7 runs, 1 loop each)\n"
     ]
    }
   ],
   "source": [
    "%timeit fv = computeFeatures(Corpus[0],len(vocab['t_2_i']))"
   ]
  },
  {
   "cell_type": "code",
   "execution_count": 35,
   "id": "303c9752",
   "metadata": {},
   "outputs": [],
   "source": [
    "X = np.asarray(df['review'])\n",
    "y = np.asarray(df['rating'])"
   ]
  },
  {
   "cell_type": "code",
   "execution_count": 36,
   "id": "e6c4691d",
   "metadata": {},
   "outputs": [],
   "source": [
    "from sklearn.model_selection import train_test_split"
   ]
  },
  {
   "cell_type": "code",
   "execution_count": 37,
   "id": "0295b96d",
   "metadata": {},
   "outputs": [],
   "source": [
    "Xtrain,Xtest,ytrain,ytest = train_test_split(X,y,test_size=0.3,shuffle=True)"
   ]
  },
  {
   "cell_type": "code",
   "execution_count": 38,
   "id": "ae5c2568",
   "metadata": {},
   "outputs": [],
   "source": [
    "vocabularyFromCorpus(Xtrain)"
   ]
  },
  {
   "cell_type": "code",
   "execution_count": 39,
   "id": "7e3a95d6",
   "metadata": {},
   "outputs": [],
   "source": [
    "N = len(vocab['t_2_i'])\n",
    "Xtrain_fM = corpusToFeatureMatrix_fast(Xtrain,N)\n",
    "Xtest_fM = corpusToFeatureMatrix_fast(Xtest,N)"
   ]
  },
  {
   "cell_type": "code",
   "execution_count": 40,
   "id": "cc2964fb",
   "metadata": {},
   "outputs": [
    {
     "data": {
      "text/plain": [
       "(39200, 7349)"
      ]
     },
     "execution_count": 40,
     "metadata": {},
     "output_type": "execute_result"
    }
   ],
   "source": [
    "Xtrain_fM.shape"
   ]
  },
  {
   "cell_type": "code",
   "execution_count": 41,
   "id": "6602a13d",
   "metadata": {},
   "outputs": [
    {
     "data": {
      "text/plain": [
       "(16800, 7349)"
      ]
     },
     "execution_count": 41,
     "metadata": {},
     "output_type": "execute_result"
    }
   ],
   "source": [
    "Xtest_fM.shape"
   ]
  },
  {
   "cell_type": "code",
   "execution_count": 42,
   "id": "ff1d8a93",
   "metadata": {},
   "outputs": [],
   "source": [
    "#from sklearn.linear_model import LogisticRegression as clf\n",
    "#from sklearn.naive_bayes import GaussianNB as clf\n",
    "#from sklearn.ensemble import RandomForestClassifier as clf\n",
    "from sklearn.svm import SVC as clf\n",
    "from sklearn.metrics import confusion_matrix\n",
    "import seaborn as sns\n",
    "from matplotlib import pyplot as plt\n",
    "sns.set()"
   ]
  },
  {
   "cell_type": "code",
   "execution_count": 43,
   "id": "4e163682",
   "metadata": {},
   "outputs": [],
   "source": [
    "M = clf().fit(Xtrain_fM,ytrain)"
   ]
  },
  {
   "cell_type": "code",
   "execution_count": 44,
   "id": "4f1c5e50",
   "metadata": {},
   "outputs": [],
   "source": [
    "y_pred = M.predict(Xtest_fM)"
   ]
  },
  {
   "cell_type": "code",
   "execution_count": 45,
   "id": "f12a2ec1",
   "metadata": {},
   "outputs": [
    {
     "data": {
      "text/plain": [
       "Text(89.133125, 0.5, 'Predicted Label')"
      ]
     },
     "execution_count": 45,
     "metadata": {},
     "output_type": "execute_result"
    },
    {
     "data": {
      "image/png": "[encoded data removed]",
      "text/plain": [
       "<Figure size 432x288 with 1 Axes>"
      ]
     },
     "metadata": {},
     "output_type": "display_data"
    }
   ],
   "source": [
    "mat = confusion_matrix(ytest,y_pred)\n",
    "sns.heatmap(mat.T,square=True,annot=True,fmt='d',cbar=False,\n",
    "           xticklabels=np.unique(y),yticklabels=np.unique(y))\n",
    "plt.xlabel(\"True Label\")\n",
    "plt.ylabel(\"Predicted Label\")"
   ]
  },
  {
   "cell_type": "code",
   "execution_count": 46,
   "id": "13cbaa32",
   "metadata": {},
   "outputs": [
    {
     "data": {
      "text/plain": [
       "(39200,)"
      ]
     },
     "execution_count": 46,
     "metadata": {},
     "output_type": "execute_result"
    }
   ],
   "source": [
    "Xtrain.shape"
   ]
  },
  {
   "cell_type": "code",
   "execution_count": null,
   "id": "43c149d8",
   "metadata": {},
   "outputs": [],
   "source": []
  }
 ],
 "metadata": {
  "kernelspec": {
   "display_name": "Python 3 (ipykernel)",
   "language": "python",
   "name": "python3"
  },
  "language_info": {
   "codemirror_mode": {
    "name": "ipython",
    "version": 3
   },
   "file_extension": ".py",
   "mimetype": "text/x-python",
   "name": "python",
   "nbconvert_exporter": "python",
   "pygments_lexer": "ipython3",
   "version": "3.9.5"
  }
 },
 "nbformat": 4,
 "nbformat_minor": 5
}
