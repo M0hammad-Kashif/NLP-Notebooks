{
 "cells": [
  {
   "cell_type": "code",
   "execution_count": 1,
   "id": "e32fc415",
   "metadata": {},
   "outputs": [],
   "source": [
    "import numpy as np\n",
    "import re\n",
    "from operator import itemgetter"
   ]
  },
  {
   "cell_type": "code",
   "execution_count": 2,
   "id": "2df266bf",
   "metadata": {},
   "outputs": [],
   "source": [
    "Corpus = {\n",
    "    'l o w _':5,#frequency\n",
    "    'l o w e r _':2,\n",
    "    'n e w e s t _':6,\n",
    "    'w i d e s t _':3,\n",
    "    'h a p p i e r _':2\n",
    "}"
   ]
  },
  {
   "cell_type": "code",
   "execution_count": 4,
   "id": "f84d1536",
   "metadata": {},
   "outputs": [
    {
     "data": {
      "text/plain": [
       "{'l o w _': 5,\n",
       " 'l o w e r _': 2,\n",
       " 'n e w e s t _': 6,\n",
       " 'w i d e s t _': 3,\n",
       " 'h a p p i e r _': 2}"
      ]
     },
     "execution_count": 4,
     "metadata": {},
     "output_type": "execute_result"
    }
   ],
   "source": [
    "Corpus"
   ]
  },
  {
   "cell_type": "code",
   "execution_count": 61,
   "id": "dc5f43cb",
   "metadata": {},
   "outputs": [],
   "source": [
    "def getPairCounts(Corpus):\n",
    "    pairs = {}\n",
    "    for word,fr in Corpus.items():\n",
    "        symbols = word.split(' ')\n",
    "        for i in range(len(symbols)-1):\n",
    "            pair = (symbols[i],symbols[i+1])\n",
    "            cfr = pairs.get(pair,0)\n",
    "            pairs[pair] = cfr+fr\n",
    "    return pairs"
   ]
  },
  {
   "cell_type": "code",
   "execution_count": 72,
   "id": "5cf556bc",
   "metadata": {},
   "outputs": [
    {
     "data": {
      "text/plain": [
       "{('l', 'o'): 7,\n",
       " ('o', 'w'): 7,\n",
       " ('w', '_'): 5,\n",
       " ('w', 'e'): 8,\n",
       " ('e', 'r'): 4,\n",
       " ('r', '_'): 4,\n",
       " ('n', 'e'): 6,\n",
       " ('e', 'w'): 6,\n",
       " ('e', 's'): 9,\n",
       " ('s', 't'): 9,\n",
       " ('t', '_'): 9,\n",
       " ('w', 'i'): 3,\n",
       " ('i', 'd'): 3,\n",
       " ('d', 'e'): 3,\n",
       " ('h', 'a'): 2,\n",
       " ('a', 'p'): 2,\n",
       " ('p', 'p'): 2,\n",
       " ('p', 'i'): 2,\n",
       " ('i', 'e'): 2}"
      ]
     },
     "execution_count": 72,
     "metadata": {},
     "output_type": "execute_result"
    }
   ],
   "source": [
    "getPairCounts(Corpus)"
   ]
  },
  {
   "cell_type": "code",
   "execution_count": 73,
   "id": "dcbf82de",
   "metadata": {},
   "outputs": [],
   "source": [
    "pairsCounts = getPairCounts(Corpus)"
   ]
  },
  {
   "cell_type": "code",
   "execution_count": 64,
   "id": "be204ec5",
   "metadata": {},
   "outputs": [
    {
     "data": {
      "text/plain": [
       "{('l', 'o'): 7,\n",
       " ('o', 'w'): 7,\n",
       " ('w', '_'): 5,\n",
       " ('w', 'e'): 8,\n",
       " ('e', 'r'): 4,\n",
       " ('r', '_'): 4,\n",
       " ('n', 'e'): 6,\n",
       " ('e', 'w'): 6,\n",
       " ('e', 's'): 9,\n",
       " ('s', 't'): 9,\n",
       " ('t', '_'): 9,\n",
       " ('w', 'i'): 3,\n",
       " ('i', 'd'): 3,\n",
       " ('d', 'e'): 3,\n",
       " ('h', 'a'): 2,\n",
       " ('a', 'p'): 2,\n",
       " ('p', 'p'): 2,\n",
       " ('p', 'i'): 2,\n",
       " ('i', 'e'): 2}"
      ]
     },
     "execution_count": 64,
     "metadata": {},
     "output_type": "execute_result"
    }
   ],
   "source": [
    "# print(pairsCounts)\n",
    "pairsCounts\n"
   ]
  },
  {
   "cell_type": "code",
   "execution_count": 74,
   "id": "45dff9fa",
   "metadata": {},
   "outputs": [],
   "source": [
    "def getBestPair(pairsCounts):\n",
    "    return max(pairsCounts,key=pairsCounts.get)"
   ]
  },
  {
   "cell_type": "code",
   "execution_count": 76,
   "id": "664878b2",
   "metadata": {},
   "outputs": [
    {
     "name": "stdout",
     "output_type": "stream",
     "text": [
      "('e', 's')\n"
     ]
    }
   ],
   "source": [
    "print(getBestPair(pairsCounts))"
   ]
  },
  {
   "cell_type": "code",
   "execution_count": 77,
   "id": "7793f182",
   "metadata": {},
   "outputs": [],
   "source": [
    "def mergeInCorpus(bestPair,Corpus):\n",
    "    newCorpus = {}\n",
    "    for word in Corpus:\n",
    "        newWord = re.sub(' '.join(bestPair),''.join(bestPair),word)#pattern,replacement,word\n",
    "        newCorpus[newWord] = Corpus[word]\n",
    "    return newCorpus"
   ]
  },
  {
   "cell_type": "code",
   "execution_count": 79,
   "id": "4793d44b",
   "metadata": {},
   "outputs": [
    {
     "name": "stdout",
     "output_type": "stream",
     "text": [
      "('e', 's')\n"
     ]
    }
   ],
   "source": [
    "bestPair = getBestPair(pairsCounts)\n",
    "print(bestPair)"
   ]
  },
  {
   "cell_type": "code",
   "execution_count": 80,
   "id": "bc048dd8",
   "metadata": {},
   "outputs": [
    {
     "data": {
      "text/plain": [
       "{'l o w _': 5,\n",
       " 'l o w e r _': 2,\n",
       " 'n e w es t _': 6,\n",
       " 'w i d es t _': 3,\n",
       " 'h a p p i e r _': 2}"
      ]
     },
     "execution_count": 80,
     "metadata": {},
     "output_type": "execute_result"
    }
   ],
   "source": [
    "newCorpus = mergeInCorpus(bestPair,Corpus)\n",
    "# print(newCorpus)\n",
    "newCorpus"
   ]
  },
  {
   "cell_type": "markdown",
   "id": "acc83e49",
   "metadata": {},
   "source": [
    "## Binary Pair Encoding"
   ]
  },
  {
   "cell_type": "code",
   "execution_count": 81,
   "id": "ada1da61",
   "metadata": {},
   "outputs": [],
   "source": [
    "def runBPE(Corpus,k):\n",
    "    bpeStats = {}\n",
    "    for i in range(k):\n",
    "        pairsCounts = getPairCounts(Corpus)\n",
    "        if not pairsCounts:\n",
    "            break\n",
    "        bestPair = getBestPair(pairsCounts)\n",
    "        bpeStats[bestPair] = i\n",
    "        Corpus = mergeInCorpus(bestPair,Corpus)\n",
    "    return Corpus,bpeStats"
   ]
  },
  {
   "cell_type": "code",
   "execution_count": 83,
   "id": "06b7353f",
   "metadata": {},
   "outputs": [
    {
     "data": {
      "text/plain": [
       "{'low_': 5, 'low er _': 2, 'newest_': 6, 'w i d est_': 3, 'h a p p i er _': 2}"
      ]
     },
     "execution_count": 83,
     "metadata": {},
     "output_type": "execute_result"
    }
   ],
   "source": [
    "runBPE(Corpus,10)[0]"
   ]
  },
  {
   "cell_type": "code",
   "execution_count": 84,
   "id": "5c15f080",
   "metadata": {},
   "outputs": [
    {
     "data": {
      "text/plain": [
       "{('e', 's'): 0,\n",
       " ('es', 't'): 1,\n",
       " ('est', '_'): 2,\n",
       " ('l', 'o'): 3,\n",
       " ('lo', 'w'): 4,\n",
       " ('n', 'e'): 5,\n",
       " ('ne', 'w'): 6,\n",
       " ('new', 'est_'): 7,\n",
       " ('low', '_'): 8,\n",
       " ('e', 'r'): 9}"
      ]
     },
     "execution_count": 84,
     "metadata": {},
     "output_type": "execute_result"
    }
   ],
   "source": [
    "runBPE(Corpus,10)[1]"
   ]
  },
  {
   "cell_type": "code",
   "execution_count": 85,
   "id": "2997daf6",
   "metadata": {},
   "outputs": [],
   "source": [
    "def getAllPairs(word):\n",
    "    pairs = []\n",
    "    word = word.split(' ')\n",
    "    prevChar = word[0]\n",
    "    for char in word[1:]:\n",
    "        pairs.append((prevChar,char))\n",
    "        prevChar = char\n",
    "    return pairs"
   ]
  },
  {
   "cell_type": "code",
   "execution_count": 89,
   "id": "3d3c0ed2",
   "metadata": {},
   "outputs": [
    {
     "name": "stdout",
     "output_type": "stream",
     "text": [
      "lowest l o w e s t _\n"
     ]
    }
   ],
   "source": [
    "newWord = 'lowest'\n",
    "newWord2 = ' '.join(list(newWord))+' _'\n",
    "print(newWord,newWord2)"
   ]
  },
  {
   "cell_type": "code",
   "execution_count": 90,
   "id": "ced8e481",
   "metadata": {},
   "outputs": [
    {
     "data": {
      "text/plain": [
       "[('l', 'o'), ('o', 'w'), ('w', 'e'), ('e', 's'), ('s', 't'), ('t', '_')]"
      ]
     },
     "execution_count": 90,
     "metadata": {},
     "output_type": "execute_result"
    }
   ],
   "source": [
    "pairs = getAllPairs(newWord2)\n",
    "pairs"
   ]
  },
  {
   "cell_type": "code",
   "execution_count": 94,
   "id": "7bc25436",
   "metadata": {},
   "outputs": [],
   "source": [
    "newCorpus,bpeStats = runBPE(Corpus,10)"
   ]
  },
  {
   "cell_type": "code",
   "execution_count": 95,
   "id": "dbd35630",
   "metadata": {},
   "outputs": [],
   "source": [
    "def getPairToBeMerged(bpeStats,pairs):\n",
    "    #bpeCodes = [(pair,bpeStats[pair]) for pair in pairs if pair in bpeStats]\n",
    "    bpeCodes = []\n",
    "    for pair in pairs:\n",
    "        if pair in bpeStats:\n",
    "            bpeCodes.append((pair,bpeStats[pair]))\n",
    "    if len(bpeCodes) == 0:\n",
    "        return (-1,-1)\n",
    "    pairToBeMerged = min(bpeCodes,key=itemgetter(1))[0]\n",
    "    return pairToBeMerged"
   ]
  },
  {
   "cell_type": "code",
   "execution_count": 96,
   "id": "12141bab",
   "metadata": {},
   "outputs": [],
   "source": [
    "pairToBeMerged = getPairToBeMerged(bpeStats,pairs)"
   ]
  },
  {
   "cell_type": "code",
   "execution_count": 97,
   "id": "eaf10ece",
   "metadata": {},
   "outputs": [
    {
     "data": {
      "text/plain": [
       "('e', 's')"
      ]
     },
     "execution_count": 97,
     "metadata": {},
     "output_type": "execute_result"
    }
   ],
   "source": [
    "pairToBeMerged"
   ]
  },
  {
   "cell_type": "code",
   "execution_count": 98,
   "id": "386add29",
   "metadata": {},
   "outputs": [],
   "source": [
    "def mergeLetters(word,pairToBeMerged):\n",
    "    newWord = re.sub(' '.join(pairToBeMerged),''.join(pairToBeMerged),word)\n",
    "    return newWord"
   ]
  },
  {
   "cell_type": "code",
   "execution_count": 99,
   "id": "bc0f9195",
   "metadata": {},
   "outputs": [
    {
     "name": "stdout",
     "output_type": "stream",
     "text": [
      "l o w es t _\n"
     ]
    }
   ],
   "source": [
    "print(mergeLetters(newWord2,pairToBeMerged))"
   ]
  },
  {
   "cell_type": "code",
   "execution_count": 105,
   "id": "8ce7ac4a",
   "metadata": {},
   "outputs": [],
   "source": [
    "def bpeTokenize(word,bpeStats):\n",
    "    if len(word) == 1:\n",
    "        return word\n",
    "    word = ' '.join(list(word))+' _'\n",
    "    while True:\n",
    "        pairs = getAllPairs(word)\n",
    "        pairToBeMerged = getPairToBeMerged(bpeStats,pairs)\n",
    "        if pairToBeMerged[0] == -1:\n",
    "            break\n",
    "        word = mergeLetters(word,pairToBeMerged)\n",
    "    return word"
   ]
  },
  {
   "cell_type": "code",
   "execution_count": 106,
   "id": "b1d6c681",
   "metadata": {},
   "outputs": [],
   "source": [
    "newWord = bpeTokenize('lowest',bpeStats)"
   ]
  },
  {
   "cell_type": "code",
   "execution_count": 107,
   "id": "ecdc049d",
   "metadata": {},
   "outputs": [
    {
     "data": {
      "text/plain": [
       "'low est_'"
      ]
     },
     "execution_count": 107,
     "metadata": {},
     "output_type": "execute_result"
    }
   ],
   "source": [
    "newWord"
   ]
  },
  {
   "cell_type": "code",
   "execution_count": null,
   "id": "f6d72e91",
   "metadata": {},
   "outputs": [],
   "source": []
  }
 ],
 "metadata": {
  "kernelspec": {
   "display_name": "Python 3 (ipykernel)",
   "language": "python",
   "name": "python3"
  },
  "language_info": {
   "codemirror_mode": {
    "name": "ipython",
    "version": 3
   },
   "file_extension": ".py",
   "mimetype": "text/x-python",
   "name": "python",
   "nbconvert_exporter": "python",
   "pygments_lexer": "ipython3",
   "version": "3.9.5"
  }
 },
 "nbformat": 4,
 "nbformat_minor": 5
}
