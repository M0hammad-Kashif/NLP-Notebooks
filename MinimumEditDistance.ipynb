{
 "cells": [
  {
   "cell_type": "code",
   "execution_count": 32,
   "id": "479a1b05",
   "metadata": {},
   "outputs": [],
   "source": [
    "import spacy\n",
    "import numpy as np\n"
   ]
  },
  {
   "cell_type": "code",
   "execution_count": 8,
   "id": "5cf76cd3",
   "metadata": {},
   "outputs": [],
   "source": [
    "nlp = spacy.load('en_core_web_sm')"
   ]
  },
  {
   "cell_type": "code",
   "execution_count": 24,
   "id": "aaeb197d",
   "metadata": {},
   "outputs": [],
   "source": [
    "def computeMED(X,Y,delCost=1,insCost=1,subCost=2):\n",
    "    M = len(X)+1\n",
    "    N = len(Y)+1\n",
    "    D = np.zeros((M,N))\n",
    "    for i in range(M):\n",
    "        D[i,0] = i*delCost\n",
    "    for j in range(N):\n",
    "        D[0,j] = j*insCost\n",
    "    for i in range(1,M):\n",
    "        for j in range(1,N):\n",
    "            afterDel = D[i-1,j] + delCost\n",
    "            afterIns = D[i,j-1] + insCost\n",
    "            if X[i-1] == Y[j-1]:\n",
    "                afterSub = D[i-1,j-1] + 0\n",
    "            else:\n",
    "                afterSub = D[i-1,j-1] + subCost\n",
    "            D[i,j] = min(afterDel,afterIns,afterSub)\n",
    "    return D[M-1,N-1]"
   ]
  },
  {
   "cell_type": "code",
   "execution_count": 25,
   "id": "151b21e4",
   "metadata": {},
   "outputs": [
    {
     "name": "stdout",
     "output_type": "stream",
     "text": [
      "3.0\n"
     ]
    }
   ],
   "source": [
    "X = 'WINTER'\n",
    "Y = 'TKINTER'\n",
    "print(computeMED(X,Y))"
   ]
  },
  {
   "cell_type": "code",
   "execution_count": 28,
   "id": "985afa93",
   "metadata": {},
   "outputs": [],
   "source": [
    "L = list(nlp.vocab.strings)"
   ]
  },
  {
   "cell_type": "code",
   "execution_count": 30,
   "id": "536cdcbc",
   "metadata": {},
   "outputs": [
    {
     "data": {
      "text/plain": [
       "83839"
      ]
     },
     "execution_count": 30,
     "metadata": {},
     "output_type": "execute_result"
    }
   ],
   "source": [
    "len(L)"
   ]
  },
  {
   "cell_type": "code",
   "execution_count": 33,
   "id": "01aa5e81",
   "metadata": {},
   "outputs": [],
   "source": [
    "import editdistance"
   ]
  },
  {
   "cell_type": "code",
   "execution_count": 34,
   "id": "9d161703",
   "metadata": {},
   "outputs": [],
   "source": [
    "def correctSpellings(word,L):\n",
    "    MED = [editdistance.eval(word,L[i]) for i in range(len(L))]\n",
    "    return L[np.argmin(MED)]"
   ]
  },
  {
   "cell_type": "code",
   "execution_count": 56,
   "id": "9822662e",
   "metadata": {},
   "outputs": [
    {
     "name": "stdout",
     "output_type": "stream",
     "text": [
      "Type a word here:  iconomiks\n",
      "You have typed :   iconomiks\n",
      "The correct word is :   Economics\n"
     ]
    }
   ],
   "source": [
    "word = input('Type a word here:  ')\n",
    "print('You have typed :  ',word)\n",
    "print('The correct word is :  ',correctSpellings(word,L))"
   ]
  },
  {
   "cell_type": "code",
   "execution_count": 53,
   "id": "5b8c4724",
   "metadata": {},
   "outputs": [
    {
     "name": "stdout",
     "output_type": "stream",
     "text": [
      "Type a word here:  gymsium\n",
      "You have typed :   gymsium\n",
      "The correct word is :   gymnasium\n"
     ]
    }
   ],
   "source": [
    "word = input('Type a word here:  ')\n",
    "print('You have typed :  ',word)\n",
    "print('The correct word is :  ',correctSpellings(word,L))"
   ]
  },
  {
   "cell_type": "code",
   "execution_count": 54,
   "id": "2d3180c4",
   "metadata": {},
   "outputs": [
    {
     "name": "stdout",
     "output_type": "stream",
     "text": [
      "Type a word here:  carpainter\n",
      "You have typed :   carpainter\n",
      "The correct word is :   carpenter\n"
     ]
    }
   ],
   "source": [
    "word = input('Type a word here:  ')\n",
    "print('You have typed :  ',word)\n",
    "print('The correct word is :  ',correctSpellings(word,L))"
   ]
  },
  {
   "cell_type": "code",
   "execution_count": 55,
   "id": "0c27414e",
   "metadata": {},
   "outputs": [
    {
     "name": "stdout",
     "output_type": "stream",
     "text": [
      "Type a word here:  coppochino\n",
      "You have typed :   coppochino\n",
      "The correct word is :   cappuccinos\n"
     ]
    }
   ],
   "source": [
    "word = input('Type a word here:  ')\n",
    "print('You have typed :  ',word)\n",
    "print('The correct word is :  ',correctSpellings(word,L))"
   ]
  },
  {
   "cell_type": "code",
   "execution_count": null,
   "id": "0608c4a4",
   "metadata": {},
   "outputs": [],
   "source": []
  }
 ],
 "metadata": {
  "kernelspec": {
   "display_name": "Python 3 (ipykernel)",
   "language": "python",
   "name": "python3"
  },
  "language_info": {
   "codemirror_mode": {
    "name": "ipython",
    "version": 3
   },
   "file_extension": ".py",
   "mimetype": "text/x-python",
   "name": "python",
   "nbconvert_exporter": "python",
   "pygments_lexer": "ipython3",
   "version": "3.9.5"
  }
 },
 "nbformat": 4,
 "nbformat_minor": 5
}
